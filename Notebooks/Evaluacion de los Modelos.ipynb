{
 "cells": [
  {
   "cell_type": "code",
   "execution_count": 1,
   "id": "81a46be6",
   "metadata": {},
   "outputs": [],
   "source": [
    "import spacy\n",
    "from spacy.tokens import Doc, Span\n",
    "from spacy import displacy\n",
    "from spacy.training import Example\n",
    "from spacy.scorer import Scorer\n",
    "import re\n",
    "import os\n",
    "from spacy.language import Language\n",
    "from prettytable import PrettyTable\n",
    "from IPython.display import clear_output\n",
    "from collections import Counter"
   ]
  },
  {
   "cell_type": "code",
   "execution_count": 2,
   "id": "c65f0b86",
   "metadata": {},
   "outputs": [],
   "source": [
    "EXPRESIONES_REGULARES = {\n",
    "    \"EMAIL\": \"((?<=^)|(?<=\\\\s))([\\\\w-]+(\\\\.[\\\\w-]+)*@([\\\\w-]+\\\\.)+\\\\w+)(?=$|[\\\\s\\\\.])\",\n",
    "    \"DNI\": \"((?<=^)|(?<=\\\\s))(([A-Za-z][- ]?((\\\\d\\\\.?\\\\d{3}\\\\.?\\\\d{3}[ -]?[A-Za-z])|(\\\\d{2}\\\\.?\\\\d{3}\\\\.?\\\\d{3})))|(\\\\d{2}\\\\.?\\\\d{3}\\\\.?\\\\d{3}[\\\\. -]?[A-Za-z])|([XxYyZz][- ]?\\\\d{8}[- ]?[A-Za-z]))(?=$|[\\\\s\\\\.])\",\n",
    "    \"CUENTA_BANCARIA\": \"ES[\\\\s.-]?\\\\d{2}[\\\\s.-]?\\\\d{4}[\\\\s.-]?\\\\d{4}[\\\\s.-]?\\\\d{4}[\\\\s.-]?\\\\d{4}[\\\\s.-]?\\\\d{4}\",\n",
    "    \"MATRICULA\": \"\\\\b(?=\\\\w)\\\\d{4}\\\\s?-?\\\\s?[b-df-hj-ñp-tv-zB-DF-HJ-ÑP-TV-Z]{3,4}\\\\b(?<=\\\\w)\",\n",
    "    \"CSV\": \"\\\\w{5}-\\\\w{5}-\\\\w{5}\",\n",
    "    \"URL\": \"https?:\\/\\/(www\\.)?[-a-zA-Z0-9@:%._\\+~#=]{1,256}\\.[a-zA-Z0-9()]{1,6}\\\\b([-a-zA-Z0-9()@:%_\\+.~#?&//=]*)\",\n",
    "    \"REF_CATASTRAL\": \"\\\\b(?=\\\\w)(\\\\d{7}\\\\s?\\\\w{2}\\\\s?\\\\d{4}\\\\s?\\\\w\\\\s?\\\\d{4}\\\\s?\\\\w{2}|\\\\d{5}\\\\s?\\\\w\\\\s?\\\\d{12}\\\\s?\\\\w{2})\\\\b(?<=\\\\w)\",\n",
    "    \"TELEFONO\": \"((?<=^)|(?<=\\\\s))[6789]((((\\\\d{2}(?P<sep>[-. ]?)\\\\d{2})|(\\\\d{1}(?P<sep2>[-. ]?)\\\\d{3}))((?P=sep)|(?P=sep2))?\\\\d{2}((?P=sep)|(?P=sep2))?\\\\d{2}))(?=$|[\\\\s\\\\.])\",\n",
    "}"
   ]
  },
  {
   "cell_type": "code",
   "execution_count": 3,
   "id": "adb37cbe",
   "metadata": {},
   "outputs": [],
   "source": [
    "@Language.component(\"regex\")\n",
    "def regexComponent(doc):\n",
    "        \n",
    "    text = doc.text\n",
    "    regexes = EXPRESIONES_REGULARES\n",
    "    \n",
    "    chars_to_tokens = {}\n",
    "    \n",
    "    for token in doc:\n",
    "        for i in range(token.idx, token.idx + len(token.text)):\n",
    "            chars_to_tokens[i] = token.i\n",
    "    for label, regex in regexes.items():\n",
    "        for match in re.finditer(re.compile(regex), text):\n",
    "            start, end = match.span()\n",
    "            span = doc.char_span(start, end, label=label)\n",
    "            if span is not None:\n",
    "                if span not in doc.ents:\n",
    "                    try:\n",
    "                        doc.ents += (span,)\n",
    "                    except ValueError as e:\n",
    "                        print('Error ({}): {} {}\\n{}'.format(str(1), span.label_, span, e))\n",
    "            else:\n",
    "                start_token = chars_to_tokens.get(start)\n",
    "                end_token = chars_to_tokens.get(end)\n",
    "\n",
    "                if start_token is not None and end_token is not None:\n",
    "                    span = Span(doc, start_token, end_token + 1, label=label)\n",
    "                    try:\n",
    "                        doc.ents += (span,)\n",
    "                    except ValueError as e:\n",
    "                        pass\n",
    "                else:\n",
    "                    pass\n",
    "    return doc"
   ]
  },
  {
   "cell_type": "code",
   "execution_count": 4,
   "id": "e1e2fc05",
   "metadata": {},
   "outputs": [],
   "source": [
    "def getListaDocsAnotados():\n",
    "    path_doc_anotados = \"annotated/\"\n",
    "    \n",
    "    lista_anotados = os.listdir(path_doc_anotados)\n",
    "    lista_anotados = [x for x in lista_anotados if re.match(r\"^doc_*\", x)]\n",
    "    print(\"Docs anotados totales: \", len(lista_anotados) )\n",
    "    \n",
    "    path_test = \"test/\"\n",
    "    lista_test = os.listdir(path_test)\n",
    "    lista_test = [x for x in lista_test if re.match(r\"^doc_*\", x)]\n",
    "    \n",
    "    lista_documentos_anotados = [x.replace(\".spacy\", \".tsv\") for x in lista_test if x.replace(\".spacy\", \".tsv\") in lista_anotados]\n",
    "    print(\"Docs Anotados TEST: \", len(lista_documentos_anotados) )\n",
    "    return lista_documentos_anotados"
   ]
  },
  {
   "cell_type": "code",
   "execution_count": 5,
   "id": "a998cc7c",
   "metadata": {},
   "outputs": [],
   "source": [
    "def cargarDocAnotado(ficheroAnotado):\n",
    "        \n",
    "    palabras, entidades = zip(* [linea.rstrip().split(\"\\t\") for linea in open(ficheroAnotado, \"r\", encoding = \"utf-8\") if linea != \"\\n\"] )\n",
    "    \n",
    "    palabras, entidades = list(palabras), list(entidades)\n",
    "    \n",
    "    doc = Doc(nlp.vocab, words = palabras, ents = entidades)\n",
    "            \n",
    "    return doc\n",
    "\n",
    "def cargarTextoDocumento(fichero):\n",
    "    with open(fichero, 'r', encoding='utf-8') as file:\n",
    "        text = ' '.join([x.rstrip() for x in file])\n",
    "    return text        "
   ]
  },
  {
   "cell_type": "code",
   "execution_count": 6,
   "id": "410262ba",
   "metadata": {},
   "outputs": [
    {
     "name": "stdout",
     "output_type": "stream",
     "text": [
      "Pipeline:  ['tok2vec', 'ner']\n"
     ]
    }
   ],
   "source": [
    "nlp = spacy.load(\"./MODELOS/modelE/\")\n",
    "\n",
    "print(\"Pipeline: \", nlp.pipe_names)"
   ]
  },
  {
   "cell_type": "code",
   "execution_count": 7,
   "id": "2f1fcc61",
   "metadata": {},
   "outputs": [],
   "source": [
    "COLORS = {\"NOMBRE\": \"#E6B0AA\", \n",
    "          \"APELLIDO\": \"#73C1A2\",\n",
    "          \"DNI\": \"#AF601A\",\n",
    "          \"DIRECCION\":\"#D2B4DE \", \n",
    "          \"CIUDAD\":\"#A9CCE3\", \n",
    "          \"PROVINCIA\":\"#AED6F1\",\n",
    "          \"CP\": \"#F5B7B1\", \n",
    "          \"TELEFONO\": \"#A3E4D7\" , \n",
    "          \"REF_CATASTRAL\":\"#F9E79F\", \n",
    "          \"SEGURIDAD_SOCIAL\":\"#FAD7A0\", \n",
    "          \"CUENTA_BANCARIA\": \"#5DADE2\", \n",
    "          \"EMAIL\": \"#EDBB99\", \n",
    "          \"MATRICULA\": \"#5D6D7E\",\n",
    "          \"CSV\": \"#DAF7A6\",\n",
    "          \"URL\": \"#FF5733\",\n",
    "          }\n",
    "ENTITIES = list( COLORS.keys() )\n",
    "options = {\"ents\": ENTITIES, \"colors\": COLORS}"
   ]
  },
  {
   "cell_type": "markdown",
   "id": "84fbcfa5",
   "metadata": {},
   "source": [
    "### Métricas sin RegEX"
   ]
  },
  {
   "cell_type": "code",
   "execution_count": 8,
   "id": "323aa00f",
   "metadata": {},
   "outputs": [
    {
     "name": "stdout",
     "output_type": "stream",
     "text": [
      "Docs anotados totales:  309\n",
      "Docs Anotados TEST:  62\n"
     ]
    },
    {
     "data": {
      "text/plain": [
       "['doc_38.txt.tsv', 'doc_273.txt.tsv', 'doc_191.txt.tsv']"
      ]
     },
     "execution_count": 8,
     "metadata": {},
     "output_type": "execute_result"
    }
   ],
   "source": [
    "lista_documentos_anotados = getListaDocsAnotados()\n",
    "lista_documentos_anotados[:3]"
   ]
  },
  {
   "cell_type": "code",
   "execution_count": 9,
   "id": "cfa75677",
   "metadata": {},
   "outputs": [
    {
     "name": "stdout",
     "output_type": "stream",
     "text": [
      "Procesando doc 62 de 62\n"
     ]
    }
   ],
   "source": [
    "ejemplos = []\n",
    "\n",
    "for idx, documento in enumerate(lista_documentos_anotados):\n",
    "    print(f\"Procesando doc {idx + 1} de {len(lista_documentos_anotados)}\")\n",
    "    clear_output(True)\n",
    "    anotado = cargarDocAnotado(f\"annotated/{documento}\")\n",
    "    prediccion = nlp( anotado.text )\n",
    "    ejemplos.append( Example(prediccion, anotado) )"
   ]
  },
  {
   "cell_type": "code",
   "execution_count": 10,
   "id": "c80ffbdd",
   "metadata": {},
   "outputs": [],
   "source": [
    "scorer = Scorer(nlp)\n",
    "resultados = scorer.score(ejemplos)"
   ]
  },
  {
   "cell_type": "code",
   "execution_count": 11,
   "id": "54ced40e",
   "metadata": {},
   "outputs": [
    {
     "name": "stdout",
     "output_type": "stream",
     "text": [
      "SIN REGEX\n",
      "+-----------+--------+-------+\n",
      "| PRECISIÓN | RECALL |   F1  |\n",
      "+-----------+--------+-------+\n",
      "|   0.953   |  0.93  | 0.942 |\n",
      "+-----------+--------+-------+\n"
     ]
    }
   ],
   "source": [
    "metricas_globales_tabla = PrettyTable([\"PRECISIÓN\", \"RECALL\", \"F1\"])\n",
    "\n",
    "metricas_globales_tabla.add_row( [ round(resultados[\"ents_p\"], 3), round(resultados[\"ents_r\"], 3), round(resultados[\"ents_f\"], 3)] ) \n",
    "\n",
    "print(\"SIN REGEX\")\n",
    "print(metricas_globales_tabla)"
   ]
  },
  {
   "cell_type": "code",
   "execution_count": 12,
   "id": "6a0643db",
   "metadata": {
    "cell_style": "center"
   },
   "outputs": [
    {
     "name": "stdout",
     "output_type": "stream",
     "text": [
      "+-----------------+-----------+--------+-------+\n",
      "|     ENTIDAD     | PRECISIÓN | RECALL |   F1  |\n",
      "+-----------------+-----------+--------+-------+\n",
      "|      NOMBRE     |   0.953   | 0.961  | 0.957 |\n",
      "|     APELLIDO    |   0.962   | 0.968  | 0.965 |\n",
      "|       CSV       |   0.968   | 0.968  | 0.968 |\n",
      "|      CIUDAD     |   0.995   | 0.987  | 0.991 |\n",
      "|       URL       |    1.0    | 0.966  | 0.983 |\n",
      "|    DIRECCION    |   0.887   | 0.588  | 0.707 |\n",
      "| CUENTA_BANCARIA |   0.056   | 0.067  | 0.061 |\n",
      "|       DNI       |   0.871   |  0.9   | 0.885 |\n",
      "|        CP       |   0.929   | 0.788  | 0.852 |\n",
      "|     TELEFONO    |    1.0    |  1.0   |  1.0  |\n",
      "|    PROVINCIA    |    1.0    |  1.0   |  1.0  |\n",
      "|      EMAIL      |    0.0    |  0.0   |  0.0  |\n",
      "|  REF_CATASTRAL  |    0.0    |  0.0   |  0.0  |\n",
      "|    MATRICULA    |    0.0    |  0.0   |  0.0  |\n",
      "+-----------------+-----------+--------+-------+\n"
     ]
    }
   ],
   "source": [
    "metricas_entidad_tabla = PrettyTable([\"ENTIDAD\", \"PRECISIÓN\", \"RECALL\", \"F1\"])\n",
    "\n",
    "for entidad, metricas in resultados[\"ents_per_type\"].items():\n",
    "    metricas_entidad_tabla.add_row( [entidad, round(metricas[\"p\"], 3), round(metricas[\"r\"], 3), round(metricas[\"f\"], 3)] )\n",
    "    \n",
    "print(metricas_entidad_tabla)"
   ]
  },
  {
   "cell_type": "markdown",
   "id": "75fdab3e",
   "metadata": {},
   "source": [
    "### Métricas con RegEX"
   ]
  },
  {
   "cell_type": "code",
   "execution_count": 13,
   "id": "0bb63ea3",
   "metadata": {},
   "outputs": [
    {
     "name": "stdout",
     "output_type": "stream",
     "text": [
      "Pipeline:  ['tok2vec', 'regex', 'ner']\n"
     ]
    }
   ],
   "source": [
    "nlp = spacy.load(\"./MODELOS/modelE/\")\n",
    "nlp.add_pipe(\"regex\", before = 'ner')\n",
    "\n",
    "print(\"Pipeline: \", nlp.pipe_names)"
   ]
  },
  {
   "cell_type": "code",
   "execution_count": 14,
   "id": "4eb9cc4f",
   "metadata": {},
   "outputs": [
    {
     "name": "stdout",
     "output_type": "stream",
     "text": [
      "Docs anotados totales:  309\n",
      "Docs Anotados TEST:  62\n"
     ]
    },
    {
     "data": {
      "text/plain": [
       "['doc_38.txt.tsv', 'doc_273.txt.tsv', 'doc_191.txt.tsv']"
      ]
     },
     "execution_count": 14,
     "metadata": {},
     "output_type": "execute_result"
    }
   ],
   "source": [
    "lista_documentos_anotados = getListaDocsAnotados()\n",
    "lista_documentos_anotados[:3]"
   ]
  },
  {
   "cell_type": "code",
   "execution_count": 15,
   "id": "8885cd0e",
   "metadata": {},
   "outputs": [
    {
     "name": "stdout",
     "output_type": "stream",
     "text": [
      "Procesando doc 62 de 62\n"
     ]
    }
   ],
   "source": [
    "ejemplos = []\n",
    "\n",
    "for idx, documento in enumerate(lista_documentos_anotados):\n",
    "    print(f\"Procesando doc {idx + 1} de {len(lista_documentos_anotados)}\")\n",
    "    clear_output(True)\n",
    "    anotado = cargarDocAnotado(f\"annotated/{documento}\")\n",
    "    prediccion = nlp( anotado.text )\n",
    "    ejemplos.append( Example(prediccion, anotado) )"
   ]
  },
  {
   "cell_type": "code",
   "execution_count": 16,
   "id": "05674d37",
   "metadata": {},
   "outputs": [],
   "source": [
    "scorer = Scorer(nlp)\n",
    "resultados = scorer.score(ejemplos)"
   ]
  },
  {
   "cell_type": "code",
   "execution_count": 17,
   "id": "842034e8",
   "metadata": {},
   "outputs": [
    {
     "name": "stdout",
     "output_type": "stream",
     "text": [
      "CON REGEX\n",
      "+-----------+--------+-------+\n",
      "| PRECISIÓN | RECALL |   F1  |\n",
      "+-----------+--------+-------+\n",
      "|   0.936   | 0.949  | 0.945 |\n",
      "+-----------+--------+-------+\n"
     ]
    }
   ],
   "source": [
    "metricas_globales_tabla = PrettyTable([\"PRECISIÓN\", \"RECALL\", \"F1\"])\n",
    "\n",
    "metricas_globales_tabla.add_row( [ round(resultados[\"ents_p\"], 3), round(resultados[\"ents_r\"], 3), round(resultados[\"ents_f\"], 3)] ) \n",
    "\n",
    "print(\"CON REGEX\")\n",
    "print(metricas_globales_tabla)"
   ]
  },
  {
   "cell_type": "code",
   "execution_count": 18,
   "id": "8545dc0a",
   "metadata": {
    "cell_style": "center"
   },
   "outputs": [
    {
     "name": "stdout",
     "output_type": "stream",
     "text": [
      "+-----------------+-----------+--------+-------+\n",
      "|     ENTIDAD     | PRECISIÓN | RECALL |   F1  |\n",
      "+-----------------+-----------+--------+-------+\n",
      "|      NOMBRE     |   0.953   | 0.961  | 0.957 |\n",
      "|     APELLIDO    |   0.962   | 0.968  | 0.965 |\n",
      "|       CSV       |   0.968   | 0.968  | 0.968 |\n",
      "|      CIUDAD     |   0.995   | 0.987  | 0.991 |\n",
      "|     TELEFONO    |    1.0    |  1.0   |  1.0  |\n",
      "|       URL       |    1.0    | 0.966  | 0.983 |\n",
      "|    DIRECCION    |   0.887   | 0.588  | 0.707 |\n",
      "|    MATRICULA    |    1.0    |  1.0   |  1.0  |\n",
      "| CUENTA_BANCARIA |    1.0    |  0.8   | 0.889 |\n",
      "|       DNI       |   0.915   | 0.973  | 0.942 |\n",
      "|        CP       |   0,929   | 0.788  | 0.852 |\n",
      "|    PROVINCIA    |    1.0    |  1.0   |  1.0  |\n",
      "|      EMAIL      |    1.0    |  1.0   |  1.0  |\n",
      "|  REF_CATASTRAL  |    1.0    | 0.812  | 0.891 |\n",
      "+-----------------+-----------+--------+-------+\n"
     ]
    }
   ],
   "source": [
    "metricas_entidad_tabla = PrettyTable([\"ENTIDAD\", \"PRECISIÓN\", \"RECALL\", \"F1\"])\n",
    "\n",
    "for entidad, metricas in resultados[\"ents_per_type\"].items():\n",
    "    metricas_entidad_tabla.add_row( [entidad, round(metricas[\"p\"], 3), round(metricas[\"r\"], 3), round(metricas[\"f\"], 3)] )\n",
    "    \n",
    "print(metricas_entidad_tabla)"
   ]
  }
 ],
 "metadata": {
  "interpreter": {
   "hash": "742350ff0c17da35e5848689b27ec71005f2bf72d44647878473f98c06a9866f"
  },
  "kernelspec": {
   "display_name": "Python 3",
   "language": "python",
   "name": "python3"
  },
  "language_info": {
   "codemirror_mode": {
    "name": "ipython",
    "version": 3
   },
   "file_extension": ".py",
   "mimetype": "text/x-python",
   "name": "python",
   "nbconvert_exporter": "python",
   "pygments_lexer": "ipython3",
   "version": "3.7.10"
  },
  "toc": {
   "base_numbering": 1,
   "nav_menu": {},
   "number_sections": true,
   "sideBar": true,
   "skip_h1_title": false,
   "title_cell": "Table of Contents",
   "title_sidebar": "Contents",
   "toc_cell": false,
   "toc_position": {},
   "toc_section_display": true,
   "toc_window_display": false
  },
  "varInspector": {
   "cols": {
    "lenName": 16,
    "lenType": 16,
    "lenVar": 40
   },
   "kernels_config": {
    "python": {
     "delete_cmd_postfix": "",
     "delete_cmd_prefix": "del ",
     "library": "var_list.py",
     "varRefreshCmd": "print(var_dic_list())"
    },
    "r": {
     "delete_cmd_postfix": ") ",
     "delete_cmd_prefix": "rm(",
     "library": "var_list.r",
     "varRefreshCmd": "cat(var_dic_list()) "
    }
   },
   "types_to_exclude": [
    "module",
    "function",
    "builtin_function_or_method",
    "instance",
    "_Feature"
   ],
   "window_display": false
  }
 },
 "nbformat": 4,
 "nbformat_minor": 5
}
