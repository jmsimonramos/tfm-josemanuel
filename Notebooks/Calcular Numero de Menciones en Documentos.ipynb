{
 "cells": [
  {
   "cell_type": "code",
   "execution_count": 1,
   "id": "81a46be6",
   "metadata": {},
   "outputs": [],
   "source": [
    "import spacy\n",
    "from spacy.tokens import Doc, Span\n",
    "from spacy import displacy\n",
    "from spacy.training import Example\n",
    "from spacy.scorer import Scorer\n",
    "import re\n",
    "import os\n",
    "from spacy.language import Language\n",
    "from prettytable import PrettyTable\n",
    "from IPython.display import clear_output\n",
    "from collections import Counter"
   ]
  },
  {
   "cell_type": "code",
   "execution_count": 2,
   "id": "b28c4c00",
   "metadata": {},
   "outputs": [],
   "source": [
    "ENTITIES = [\"NOMBRE\", \"APELLIDO\", \"DNI\", \"DIRECCION\", \"CIUDAD\", \"PROVINCIA\", \"CP\", \"TELEFONO\", \"REF_CATASTRAL\", \"SEGURIDAD_SOCIAL\", \"CUENTA_BANCARIA\", \"EMAIL\", \"MATRICULA\", \"CSV\", \"URL\"]\n",
    "nlp = spacy.blank(\"es\")"
   ]
  },
  {
   "cell_type": "code",
   "execution_count": 3,
   "id": "a998cc7c",
   "metadata": {},
   "outputs": [],
   "source": [
    "def cargarDocAnotado(ficheroAnotado):\n",
    "        \n",
    "    palabras, entidades = zip(* [linea.rstrip().split(\"\\t\") for linea in open(ficheroAnotado, \"r\", encoding = \"utf-8\") if linea != \"\\n\"] )\n",
    "    \n",
    "    palabras, entidades = list(palabras), list(entidades)\n",
    "    \n",
    "    doc = Doc(nlp.vocab, words = palabras, ents = entidades)\n",
    "            \n",
    "    return doc\n",
    "\n",
    "def cargarTextoDocumento(fichero):\n",
    "    with open(fichero, 'r', encoding='utf-8') as file:\n",
    "        text = ' '.join([x.rstrip() for x in file])\n",
    "    return text        "
   ]
  },
  {
   "cell_type": "markdown",
   "id": "ad96b3d5",
   "metadata": {},
   "source": [
    "## Apariciones de las menciones en documentos y tipo de entidad (Global)"
   ]
  },
  {
   "cell_type": "code",
   "execution_count": 4,
   "id": "e7acee82",
   "metadata": {},
   "outputs": [],
   "source": [
    "path_doc_anotados = \"annotated/\"\n",
    "anotados_list = os.listdir(path_doc_anotados)\n",
    "anotados_list = [x for x in anotados_list if re.match(r\"^doc_*\", x)]"
   ]
  },
  {
   "cell_type": "code",
   "execution_count": 5,
   "id": "e66f519c",
   "metadata": {},
   "outputs": [],
   "source": [
    "path_Probar = \"test/\"\n",
    "lista_probar = os.listdir(path_Probar)\n",
    "lista_probar = [x for x in lista_probar if re.match(r\"^doc_*\", x)]"
   ]
  },
  {
   "cell_type": "code",
   "execution_count": 6,
   "id": "8dffa5be",
   "metadata": {},
   "outputs": [
    {
     "data": {
      "text/plain": [
       "62"
      ]
     },
     "execution_count": 6,
     "metadata": {},
     "output_type": "execute_result"
    }
   ],
   "source": [
    "lista_documentos = [x.replace(\".spacy\", \".tsv\") for x in lista_probar if x.replace(\".spacy\", \".tsv\") in anotados_list]\n",
    "len(lista_documentos)"
   ]
  },
  {
   "cell_type": "code",
   "execution_count": 7,
   "id": "2c54d418",
   "metadata": {},
   "outputs": [
    {
     "data": {
      "text/plain": [
       "['doc_127.txt.tsv', 'doc_137.txt.tsv']"
      ]
     },
     "execution_count": 7,
     "metadata": {},
     "output_type": "execute_result"
    }
   ],
   "source": [
    "lista_documentos = anotados_list\n",
    "lista_documentos[:2]"
   ]
  },
  {
   "cell_type": "code",
   "execution_count": 8,
   "id": "10209584",
   "metadata": {},
   "outputs": [
    {
     "name": "stdout",
     "output_type": "stream",
     "text": [
      "Procesando Documento 309 de 309\n"
     ]
    }
   ],
   "source": [
    "contador_entidades_anotadas = {entidad: 0 for entidad in ENTITIES}\n",
    "contador_documentos = {entidad: 0 for entidad in ENTITIES}\n",
    "\n",
    "def incrementarContadorEntidades(contador_global, entidades_counter):\n",
    "    for entidad, repeticiones in entidades_counter.items():\n",
    "        contador_global[entidad] = contador_global[entidad] + repeticiones\n",
    "        \n",
    "def incrementarContadorDocumentos(entidades_counter):\n",
    "    for entidad, repeticiones in entidades_counter.items():\n",
    "        if repeticiones > 0:\n",
    "            contador_documentos[entidad] = contador_documentos[entidad] + 1\n",
    "    \n",
    "for indice, documento in enumerate( lista_documentos ):\n",
    "    clear_output(wait=True)\n",
    "    print(f\"Procesando Documento {indice + 1} de {len(lista_documentos)}\")\n",
    "    \n",
    "    doc_anotado = cargarDocAnotado(f\"{path_doc_anotados}{documento}\")\n",
    "\n",
    "    entidades_anotadas = Counter( [token.ent_type_ for token in doc_anotado if token.ent_iob_ == \"B\"] )\n",
    "\n",
    "    incrementarContadorEntidades(contador_global = contador_entidades_anotadas, entidades_counter = entidades_anotadas)\n",
    "    \n",
    "    incrementarContadorDocumentos(entidades_counter = entidades_anotadas)"
   ]
  },
  {
   "cell_type": "code",
   "execution_count": 9,
   "id": "da6320aa",
   "metadata": {},
   "outputs": [
    {
     "name": "stdout",
     "output_type": "stream",
     "text": [
      "Número de Documentos y Apariciones por tipo de entidad\n",
      "=========================================================\n",
      "+------------------+------------+-------------+-------+--------------+\n",
      "|     ENTIDAD      | DOCUMENTOS | APARICIONES |  %DOC | %APARICIONES |\n",
      "+------------------+------------+-------------+-------+--------------+\n",
      "|      NOMBRE      |    309     |     2263    | 100.0 |     21.0     |\n",
      "|     APELLIDO     |    309     |     4526    | 100.0 |    42.01     |\n",
      "|       DNI        |     79     |     710     | 25.57 |     6.59     |\n",
      "|    DIRECCION     |    160     |     323     | 51.78 |     3.0      |\n",
      "|      CIUDAD      |    309     |     1994    | 100.0 |    18.51     |\n",
      "|    PROVINCIA     |     5      |      7      |  1.62 |     0.06     |\n",
      "|        CP        |    119     |     141     | 38.51 |     1.31     |\n",
      "|     TELEFONO     |    117     |     118     | 37.86 |     1.1      |\n",
      "|  REF_CATASTRAL   |     10     |      36     |  3.24 |     0.33     |\n",
      "| SEGURIDAD_SOCIAL |     0      |      0      |  0.0  |     0.0      |\n",
      "| CUENTA_BANCARIA  |     17     |      56     |  5.5  |     0.52     |\n",
      "|      EMAIL       |     3      |      3      |  0.97 |     0.03     |\n",
      "|    MATRICULA     |     6      |      7      |  1.94 |     0.06     |\n",
      "|       CSV        |    308     |     308     | 99.68 |     2.86     |\n",
      "|       URL        |    282     |     282     | 91.26 |     2.62     |\n",
      "+------------------+------------+-------------+-------+--------------+\n"
     ]
    }
   ],
   "source": [
    "tabla = PrettyTable([\"ENTIDAD\", \"DOCUMENTOS\", \"APARICIONES\", \"%DOC\", \"%APARICIONES\"])\n",
    "\n",
    "def calcularPorcentaje(num1, num2):\n",
    "    try:\n",
    "        porcentaje = (num1 / num2) * 100\n",
    "        return round( porcentaje, 2 )\n",
    "    except ZeroDivisionError:\n",
    "        return 0\n",
    "\n",
    "for ((k1, v1), (k2, v2)) in zip(contador_documentos.items(), contador_entidades_anotadas.items()):\n",
    "    tabla.add_row( [k1, v1, v2, calcularPorcentaje(v1, 309), calcularPorcentaje(v2, 10774)] ) \n",
    "\n",
    "print(\"Número de Documentos y Apariciones por tipo de entidad\")\n",
    "print(\"=========================================================\")\n",
    "print(tabla)"
   ]
  },
  {
   "cell_type": "markdown",
   "id": "7d14aac1",
   "metadata": {},
   "source": [
    "## Apariciones de las menciones en documentos y tipo de entidad (Por Subconjunto de datos)"
   ]
  },
  {
   "cell_type": "markdown",
   "id": "2c2d1067",
   "metadata": {},
   "source": [
    "### Conjunto de Train"
   ]
  },
  {
   "cell_type": "code",
   "execution_count": 10,
   "id": "09896c81",
   "metadata": {},
   "outputs": [],
   "source": [
    "path_doc_anotados = \"annotated/\"\n",
    "anotados_list = os.listdir(path_doc_anotados)\n",
    "anotados_list = [x for x in anotados_list if re.match(r\"^doc_*\", x)]"
   ]
  },
  {
   "cell_type": "code",
   "execution_count": 11,
   "id": "730c99df",
   "metadata": {},
   "outputs": [],
   "source": [
    "path_Probar = \"train/\"\n",
    "lista_probar = os.listdir(path_Probar)\n",
    "lista_probar = [x for x in lista_probar if re.match(r\"^doc_*\", x)]"
   ]
  },
  {
   "cell_type": "code",
   "execution_count": 12,
   "id": "274979d1",
   "metadata": {},
   "outputs": [
    {
     "data": {
      "text/plain": [
       "216"
      ]
     },
     "execution_count": 12,
     "metadata": {},
     "output_type": "execute_result"
    }
   ],
   "source": [
    "lista_documentos = [x.replace(\".spacy\", \".tsv\") for x in lista_probar if x.replace(\".spacy\", \".tsv\") in anotados_list]\n",
    "len(lista_documentos)"
   ]
  },
  {
   "cell_type": "code",
   "execution_count": 13,
   "id": "7daa0ee6",
   "metadata": {},
   "outputs": [
    {
     "name": "stdout",
     "output_type": "stream",
     "text": [
      "Procesando Documento 216 de 216\n"
     ]
    }
   ],
   "source": [
    "contador_entidades_anotadas = {entidad: 0 for entidad in ENTITIES}\n",
    "contador_documentos = {entidad: 0 for entidad in ENTITIES}\n",
    "\n",
    "def incrementarContadorEntidades(contador_global, entidades_counter):\n",
    "    for entidad, repeticiones in entidades_counter.items():\n",
    "        contador_global[entidad] = contador_global[entidad] + repeticiones\n",
    "        \n",
    "def incrementarContadorDocumentos(entidades_counter):\n",
    "    for entidad, repeticiones in entidades_counter.items():\n",
    "        if repeticiones > 0:\n",
    "            contador_documentos[entidad] = contador_documentos[entidad] + 1\n",
    "    \n",
    "for indice, documento in enumerate( lista_documentos ):\n",
    "    clear_output(wait=True)\n",
    "    print(f\"Procesando Documento {indice + 1} de {len(lista_documentos)}\")\n",
    "    \n",
    "    doc_anotado = cargarDocAnotado(f\"{path_doc_anotados}{documento}\")\n",
    "\n",
    "    entidades_anotadas = Counter( [token.ent_type_ for token in doc_anotado if token.ent_iob_ == \"B\"] )\n",
    "\n",
    "    incrementarContadorEntidades(contador_global = contador_entidades_anotadas, entidades_counter = entidades_anotadas)\n",
    "    \n",
    "    incrementarContadorDocumentos(entidades_counter = entidades_anotadas)"
   ]
  },
  {
   "cell_type": "code",
   "execution_count": 14,
   "id": "0eac30a7",
   "metadata": {},
   "outputs": [
    {
     "name": "stdout",
     "output_type": "stream",
     "text": [
      "Número de Documentos y Apariciones por tipo de entidad (Conjunto de Train)\n",
      "============================================================================\n",
      "+------------------+------------+-------------+\n",
      "|     ENTIDAD      | DOCUMENTOS | APARICIONES |\n",
      "+------------------+------------+-------------+\n",
      "|      NOMBRE      |    216     |     1553    |\n",
      "|     APELLIDO     |    216     |     3102    |\n",
      "|       DNI        |     51     |     458     |\n",
      "|    DIRECCION     |    107     |     191     |\n",
      "|      CIUDAD      |    216     |     1397    |\n",
      "|    PROVINCIA     |     3      |      5      |\n",
      "|        CP        |     78     |      91     |\n",
      "|     TELEFONO     |     77     |      78     |\n",
      "|  REF_CATASTRAL   |     7      |      19     |\n",
      "| SEGURIDAD_SOCIAL |     0      |      0      |\n",
      "| CUENTA_BANCARIA  |     12     |      35     |\n",
      "|      EMAIL       |     2      |      2      |\n",
      "|    MATRICULA     |     4      |      4      |\n",
      "|       CSV        |    215     |     215     |\n",
      "|       URL        |    195     |     195     |\n",
      "+------------------+------------+-------------+\n"
     ]
    }
   ],
   "source": [
    "tabla = PrettyTable([\"ENTIDAD\", \"DOCUMENTOS\", \"APARICIONES\"])\n",
    "\n",
    "def calcularPorcentaje(num1, num2):\n",
    "    try:\n",
    "        porcentaje = (num1 / num2) * 100\n",
    "        return round( porcentaje, 2 )\n",
    "    except ZeroDivisionError:\n",
    "        return 0\n",
    "\n",
    "for ((k1, v1), (k2, v2)) in zip(contador_documentos.items(), contador_entidades_anotadas.items()):\n",
    "    tabla.add_row( [k1, v1, v2]) \n",
    "\n",
    "print(\"Número de Documentos y Apariciones por tipo de entidad (Conjunto de Train)\")\n",
    "print(\"============================================================================\")\n",
    "print(tabla)"
   ]
  },
  {
   "cell_type": "markdown",
   "id": "d84d3a6d",
   "metadata": {},
   "source": [
    "### Conjunto de Validación"
   ]
  },
  {
   "cell_type": "code",
   "execution_count": 15,
   "id": "8d00ae40",
   "metadata": {},
   "outputs": [],
   "source": [
    "path_doc_anotados = \"annotated/\"\n",
    "anotados_list = os.listdir(path_doc_anotados)\n",
    "anotados_list = [x for x in anotados_list if re.match(r\"^doc_*\", x)]"
   ]
  },
  {
   "cell_type": "code",
   "execution_count": 16,
   "id": "174b44a4",
   "metadata": {},
   "outputs": [],
   "source": [
    "path_Probar = \"valid/\"\n",
    "lista_probar = os.listdir(path_Probar)\n",
    "lista_probar = [x for x in lista_probar if re.match(r\"^doc_*\", x)]"
   ]
  },
  {
   "cell_type": "code",
   "execution_count": 17,
   "id": "a89ee6e9",
   "metadata": {},
   "outputs": [
    {
     "data": {
      "text/plain": [
       "31"
      ]
     },
     "execution_count": 17,
     "metadata": {},
     "output_type": "execute_result"
    }
   ],
   "source": [
    "lista_documentos = [x.replace(\".spacy\", \".tsv\") for x in lista_probar if x.replace(\".spacy\", \".tsv\") in anotados_list]\n",
    "len(lista_documentos)"
   ]
  },
  {
   "cell_type": "code",
   "execution_count": 18,
   "id": "ad23a6ad",
   "metadata": {},
   "outputs": [
    {
     "name": "stdout",
     "output_type": "stream",
     "text": [
      "Procesando Documento 31 de 31\n"
     ]
    }
   ],
   "source": [
    "contador_entidades_anotadas = {entidad: 0 for entidad in ENTITIES}\n",
    "contador_documentos = {entidad: 0 for entidad in ENTITIES}\n",
    "\n",
    "def incrementarContadorEntidades(contador_global, entidades_counter):\n",
    "    for entidad, repeticiones in entidades_counter.items():\n",
    "        contador_global[entidad] = contador_global[entidad] + repeticiones\n",
    "        \n",
    "def incrementarContadorDocumentos(entidades_counter):\n",
    "    for entidad, repeticiones in entidades_counter.items():\n",
    "        if repeticiones > 0:\n",
    "            contador_documentos[entidad] = contador_documentos[entidad] + 1\n",
    "    \n",
    "for indice, documento in enumerate( lista_documentos ):\n",
    "    clear_output(wait=True)\n",
    "    print(f\"Procesando Documento {indice + 1} de {len(lista_documentos)}\")\n",
    "    \n",
    "    doc_anotado = cargarDocAnotado(f\"{path_doc_anotados}{documento}\")\n",
    "\n",
    "    entidades_anotadas = Counter( [token.ent_type_ for token in doc_anotado if token.ent_iob_ == \"B\"] )\n",
    "\n",
    "    incrementarContadorEntidades(contador_global = contador_entidades_anotadas, entidades_counter = entidades_anotadas)\n",
    "    \n",
    "    incrementarContadorDocumentos(entidades_counter = entidades_anotadas)"
   ]
  },
  {
   "cell_type": "code",
   "execution_count": 19,
   "id": "5bc0e009",
   "metadata": {},
   "outputs": [
    {
     "name": "stdout",
     "output_type": "stream",
     "text": [
      "Número de Documentos y Apariciones por tipo de entidad (Conjunto de Validacion)\n",
      "============================================================================\n",
      "+------------------+------------+-------------+\n",
      "|     ENTIDAD      | DOCUMENTOS | APARICIONES |\n",
      "+------------------+------------+-------------+\n",
      "|      NOMBRE      |     31     |     244     |\n",
      "|     APELLIDO     |     31     |     492     |\n",
      "|       DNI        |     10     |     102     |\n",
      "|    DIRECCION     |     20     |      52     |\n",
      "|      CIUDAD      |     31     |     218     |\n",
      "|    PROVINCIA     |     1      |      1      |\n",
      "|        CP        |     16     |      17     |\n",
      "|     TELEFONO     |     16     |      16     |\n",
      "|  REF_CATASTRAL   |     1      |      5      |\n",
      "| SEGURIDAD_SOCIAL |     0      |      0      |\n",
      "| CUENTA_BANCARIA  |     2      |      6      |\n",
      "|      EMAIL       |     0      |      0      |\n",
      "|    MATRICULA     |     1      |      1      |\n",
      "|       CSV        |     31     |      31     |\n",
      "|       URL        |     28     |      28     |\n",
      "+------------------+------------+-------------+\n"
     ]
    }
   ],
   "source": [
    "tabla = PrettyTable([\"ENTIDAD\", \"DOCUMENTOS\", \"APARICIONES\"])\n",
    "\n",
    "def calcularPorcentaje(num1, num2):\n",
    "    try:\n",
    "        porcentaje = (num1 / num2) * 100\n",
    "        return round( porcentaje, 2 )\n",
    "    except ZeroDivisionError:\n",
    "        return 0\n",
    "\n",
    "for ((k1, v1), (k2, v2)) in zip(contador_documentos.items(), contador_entidades_anotadas.items()):\n",
    "    tabla.add_row( [k1, v1, v2]) \n",
    "\n",
    "print(\"Número de Documentos y Apariciones por tipo de entidad (Conjunto de Validacion)\")\n",
    "print(\"============================================================================\")\n",
    "print(tabla)"
   ]
  },
  {
   "cell_type": "markdown",
   "id": "7e10e0ad",
   "metadata": {},
   "source": [
    "### Conjunto de Test"
   ]
  },
  {
   "cell_type": "code",
   "execution_count": 20,
   "id": "814ced63",
   "metadata": {},
   "outputs": [],
   "source": [
    "path_doc_anotados = \"annotated/\"\n",
    "anotados_list = os.listdir(path_doc_anotados)\n",
    "anotados_list = [x for x in anotados_list if re.match(r\"^doc_*\", x)]"
   ]
  },
  {
   "cell_type": "code",
   "execution_count": 21,
   "id": "73ffa69c",
   "metadata": {},
   "outputs": [],
   "source": [
    "path_Probar = \"test/\"\n",
    "lista_probar = os.listdir(path_Probar)\n",
    "lista_probar = [x for x in lista_probar if re.match(r\"^doc_*\", x)]"
   ]
  },
  {
   "cell_type": "code",
   "execution_count": 22,
   "id": "b7dd2d45",
   "metadata": {},
   "outputs": [
    {
     "data": {
      "text/plain": [
       "62"
      ]
     },
     "execution_count": 22,
     "metadata": {},
     "output_type": "execute_result"
    }
   ],
   "source": [
    "lista_documentos = [x.replace(\".spacy\", \".tsv\") for x in lista_probar if x.replace(\".spacy\", \".tsv\") in anotados_list]\n",
    "len(lista_documentos)"
   ]
  },
  {
   "cell_type": "code",
   "execution_count": 23,
   "id": "7f94c6e3",
   "metadata": {},
   "outputs": [
    {
     "name": "stdout",
     "output_type": "stream",
     "text": [
      "Procesando Documento 62 de 62\n"
     ]
    }
   ],
   "source": [
    "contador_entidades_anotadas = {entidad: 0 for entidad in ENTITIES}\n",
    "contador_documentos = {entidad: 0 for entidad in ENTITIES}\n",
    "\n",
    "def incrementarContadorEntidades(contador_global, entidades_counter):\n",
    "    for entidad, repeticiones in entidades_counter.items():\n",
    "        contador_global[entidad] = contador_global[entidad] + repeticiones\n",
    "        \n",
    "def incrementarContadorDocumentos(entidades_counter):\n",
    "    for entidad, repeticiones in entidades_counter.items():\n",
    "        if repeticiones > 0:\n",
    "            contador_documentos[entidad] = contador_documentos[entidad] + 1\n",
    "    \n",
    "for indice, documento in enumerate( lista_documentos ):\n",
    "    clear_output(wait=True)\n",
    "    print(f\"Procesando Documento {indice + 1} de {len(lista_documentos)}\")\n",
    "    \n",
    "    doc_anotado = cargarDocAnotado(f\"{path_doc_anotados}{documento}\")\n",
    "\n",
    "    entidades_anotadas = Counter( [token.ent_type_ for token in doc_anotado if token.ent_iob_ == \"B\"] )\n",
    "\n",
    "    incrementarContadorEntidades(contador_global = contador_entidades_anotadas, entidades_counter = entidades_anotadas)\n",
    "    \n",
    "    incrementarContadorDocumentos(entidades_counter = entidades_anotadas)"
   ]
  },
  {
   "cell_type": "code",
   "execution_count": 24,
   "id": "6c8f0e66",
   "metadata": {
    "scrolled": false
   },
   "outputs": [
    {
     "name": "stdout",
     "output_type": "stream",
     "text": [
      "Número de Documentos y Apariciones por tipo de entidad (Conjunto de Test)\n",
      "============================================================================\n",
      "+------------------+------------+-------------+\n",
      "|     ENTIDAD      | DOCUMENTOS | APARICIONES |\n",
      "+------------------+------------+-------------+\n",
      "|      NOMBRE      |     62     |     466     |\n",
      "|     APELLIDO     |     62     |     932     |\n",
      "|       DNI        |     18     |     150     |\n",
      "|    DIRECCION     |     33     |      80     |\n",
      "|      CIUDAD      |     62     |     379     |\n",
      "|    PROVINCIA     |     1      |      1      |\n",
      "|        CP        |     25     |      33     |\n",
      "|     TELEFONO     |     24     |      24     |\n",
      "|  REF_CATASTRAL   |     2      |      12     |\n",
      "| SEGURIDAD_SOCIAL |     0      |      0      |\n",
      "| CUENTA_BANCARIA  |     3      |      15     |\n",
      "|      EMAIL       |     1      |      1      |\n",
      "|    MATRICULA     |     1      |      2      |\n",
      "|       CSV        |     62     |      62     |\n",
      "|       URL        |     59     |      59     |\n",
      "+------------------+------------+-------------+\n"
     ]
    }
   ],
   "source": [
    "tabla = PrettyTable([\"ENTIDAD\", \"DOCUMENTOS\", \"APARICIONES\"])\n",
    "\n",
    "def calcularPorcentaje(num1, num2):\n",
    "    try:\n",
    "        porcentaje = (num1 / num2) * 100\n",
    "        return round( porcentaje, 2 )\n",
    "    except ZeroDivisionError:\n",
    "        return 0\n",
    "\n",
    "for ((k1, v1), (k2, v2)) in zip(contador_documentos.items(), contador_entidades_anotadas.items()):\n",
    "    tabla.add_row( [k1, v1, v2]) \n",
    "\n",
    "print(\"Número de Documentos y Apariciones por tipo de entidad (Conjunto de Test)\")\n",
    "print(\"============================================================================\")\n",
    "print(tabla)"
   ]
  }
 ],
 "metadata": {
  "interpreter": {
   "hash": "742350ff0c17da35e5848689b27ec71005f2bf72d44647878473f98c06a9866f"
  },
  "kernelspec": {
   "display_name": "Python 3",
   "language": "python",
   "name": "python3"
  },
  "language_info": {
   "codemirror_mode": {
    "name": "ipython",
    "version": 3
   },
   "file_extension": ".py",
   "mimetype": "text/x-python",
   "name": "python",
   "nbconvert_exporter": "python",
   "pygments_lexer": "ipython3",
   "version": "3.7.10"
  },
  "toc": {
   "base_numbering": 1,
   "nav_menu": {},
   "number_sections": true,
   "sideBar": true,
   "skip_h1_title": false,
   "title_cell": "Table of Contents",
   "title_sidebar": "Contents",
   "toc_cell": false,
   "toc_position": {},
   "toc_section_display": true,
   "toc_window_display": false
  },
  "varInspector": {
   "cols": {
    "lenName": 16,
    "lenType": 16,
    "lenVar": 40
   },
   "kernels_config": {
    "python": {
     "delete_cmd_postfix": "",
     "delete_cmd_prefix": "del ",
     "library": "var_list.py",
     "varRefreshCmd": "print(var_dic_list())"
    },
    "r": {
     "delete_cmd_postfix": ") ",
     "delete_cmd_prefix": "rm(",
     "library": "var_list.r",
     "varRefreshCmd": "cat(var_dic_list()) "
    }
   },
   "types_to_exclude": [
    "module",
    "function",
    "builtin_function_or_method",
    "instance",
    "_Feature"
   ],
   "window_display": false
  }
 },
 "nbformat": 4,
 "nbformat_minor": 5
}
